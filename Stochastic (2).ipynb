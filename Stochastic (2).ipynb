{
 "cells": [
  {
   "cell_type": "code",
   "execution_count": 291,
   "metadata": {},
   "outputs": [],
   "source": [
    "\n",
    "import pandas as pd\n",
    "import numpy as np\n",
    "from pandas_datareader import data\n",
    "import pandas_datareader.data as web\n",
    "import requests\n",
    "from math import sqrt\n",
    "import matplotlib.pyplot as plt\n",
    "plt.style.use('seaborn-whitegrid')\n",
    "%matplotlib inline"
   ]
  },
  {
   "cell_type": "code",
   "execution_count": 292,
   "metadata": {},
   "outputs": [],
   "source": [
    "portfolio = 1e5 #Portfolio total worth of 1 lakh\n",
    "tscost = 0.005 #Per trade transaction cost of 0.5%, so if two stocks of 30 each are bought, (1+0.005)*2*30 is charged in total\n",
    "nstocks = 0\n",
    "\n",
    "stock_list = ['BHEL.NS','ITC.NS','LUPIN.NS','RELIANCE.NS','IBVENTURES.NS'] #Stock list, to add a stock simply\n",
    "                                                                           #add the ticker according to Yahoo! Finance\n",
    "for stock in stock_list:\n",
    "    nstocks+=1          #Calculates number of stocks according to input stock list"
   ]
  },
  {
   "cell_type": "code",
   "execution_count": 293,
   "metadata": {},
   "outputs": [],
   "source": [
    "\n",
    "#Function to read Data\n",
    "def readData(ticker, n):\n",
    "    stocks.append(data.DataReader(ticker, 'yahoo',start='1/1/2015')) #Taking backtesting period as roughly 5 years\n"
   ]
  },
  {
   "cell_type": "code",
   "execution_count": 294,
   "metadata": {},
   "outputs": [],
   "source": [
    "#         
    "\n",
    "\n",
    "def StochasticOscillator(df1):\n",
    "    df1['Position'] = 0\n",
    "    high_value=df1['High'].tolist()#creating a temporary list containg adjusted high of each day \n",
    "    close_value=df1['Close'].tolist()#list containing adjusted close prices\n",
    "    low_value=df1['Low'].tolist()#List containg adjusted low prices\n",
    "    b=np.zeros(len(df1))#Empty temporary array\n",
    "\n",
    "    count=0# Will be used to access each index of the list \n",
    "\n",
    "\n",
    "    for count in range(0,len(df1)-15):\n",
    "\n",
    "        MaxHigh=high_value[count]#Used to store maximum high of 14 day period\n",
    "        MinLow=low_value[count]#We are arbitrarily choosing lowest price of 1st day of 14 day period as minimum low for each period\n",
    "    \n",
    "        for i in range(count,count+14):\n",
    "            if(high_value[i]>MaxHigh):\n",
    "                MaxHigh=high_value[i]#Storing Maximum high\n",
    "            \n",
    "            \n",
    "            if(low_value[i]<MinLow):\n",
    "                MinLow=low_value[i]#Storing Minimum low\n",
    "    \n",
    "        k=((close_value[count+13]-MinLow)/(MaxHigh-MinLow))#calculating the stochastic oscillator\n",
    "    \n",
    "        b[count+13] = (k*100)#Storing values of stochastic oscillator conerting value to range in between 100 and 0.\n",
    " \n",
    "    df1['%k']=b\n",
    "    window=3\n",
    "    \n",
    "    df1['%d']= df1['%k'].rolling(window).mean()\n",
    "    "
   ]
  },
  {
   "cell_type": "code",
   "execution_count": 301,
   "metadata": {},https://github.com/vedant-2001/vedant-2001/pulls
   "outputs": [
    {
     "ename": "SyntaxError",
     "evalue": "invalid syntax (<ipython-input-301-b169d0595d10>, line 9)",
     "output_type": "error",
     "traceback": [
      "\u001b[1;36m  File \u001b[1;32m\"<ipython-input-301-b169d0595d10>\"\u001b[1;36m, line \u001b[1;32m9\u001b[0m\n\u001b[1;33m    elif df1['%d'].iloc[row] > 60 and  df1['%d'].iloc[row] < df1['%k'].iloc[row]\u001b[0m\n\u001b[1;37m                                                                                 ^\u001b[0m\n\u001b[1;31mSyntaxError\u001b[0m\u001b[1;31m:\u001b[0m invalid syntax\n"
     ]
    }
   ],
   "source": [
    "def Strategy(df1):\n",
    "    for row in range(len(df1)) :\n",
    "        if df1['Position'].iloc[row-1] == 0 :\n",
    "            if df1['%d'].iloc[row] > 60 and  df1['%d'].iloc[row] > df1['%k'].iloc[row]  :\n",
    "                df1['Position'].iloc[row] = -1\n",
    "            elif df1['%d'].iloc[row] < 60 and  df1['%d'].iloc[row] > df1['%k'].iloc[row] :\n",
    "                df1['Position'].iloc[row] = -1\n",
    "                \n",
    "            elif df1['%d'].iloc[row] > 60 and  df1['%d'].iloc[row] < df1['%k'].iloc[row] \n",
    "                df1['Position'].iloc[row] = 1\n",
    "            elif  df1['%d'].iloc[row] < 60 and  df1['%d'].iloc[row] < df1['%k'].iloc[row] :\n",
    "                df1['Position'].iloc[row] = 1\n",
    "                \n",
    "        elif df1['Position'].iloc[row-1] == 1 :\n",
    "            if df1['%d'].iloc[row] < 40 and df1['%d'].iloc[row] > df1['%k'].iloc[row]  :\n",
    "                df1['Position'].iloc[row] = -1\n",
    "            elif df1['%d'].iloc[row] < 40 and df1['%d'].iloc[row] > df1['%k'].iloc[row] :\n",
    "                df1['Position'].iloc[row] = -1\n",
    "            elif df1['%d'].iloc[row] > 40 and df1['%d'].iloc[row] < df1['%k'].iloc[row] :\n",
    "                df1['Position'].iloc[row] = 1\n",
    "            elif df1['%d'].iloc[row] < 40 and df1['%d'].iloc[row] < df1['%k'].iloc[row] :\n",
    "                df1['Position'].iloc[row] = 1\n",
    "                \n",
    "        else :\n",
    "            if df1['%d'].iloc[row] < 40 and df1['%d'].iloc[row] > df1['%k'].iloc[row]  :\n",
    "                df1['Position'].iloc[row] = -1\n",
    "            if df1['%d'].iloc[row] > 60 and df1['%d'].iloc[row] < df1['%k'].iloc[row]  :\n",
    "                df1['Position'].iloc[row] = 1\n",
    "            if df1['%d'].iloc[row] > 40  and df1['%d'].iloc[row] < 60 :\n",
    "                df1['Position'].iloc[row] = 0\n",
    "                \n",
    "        \n",
    "                \n",
    "              \n",
    "            \n",
    "        "
   ]
  },
  {
   "cell_type": "code",
   "execution_count": null,
   "metadata": {},
   "outputs": [],
   "source": []
  },
  {
   "cell_type": "code",
   "execution_count": 302,
   "metadata": {},
   "outputs": [
    {
     "name": "stderr",
     "output_type": "stream",
     "text": [
      "C:\\Users\\vedu2\\anaconda3\\lib\\site-packages\\pandas\\core\\indexing.py:670: SettingWithCopyWarning: \n",
      "A value is trying to be set on a copy of a slice from a DataFrame\n",
      "\n",
      "See the caveats in the documentation: https://pandas.pydata.org/pandas-docs/stable/user_guide/indexing.html#returning-a-view-versus-a-copy\n",
      "  self._setitem_with_indexer(indexer, value)\n"
     ]
    }
   ],
   "source": [
    "i = 0\n",
    "stocks = []\n",
    "for ticker in stock_list:\n",
    "    readData(ticker,i)\n",
    "    StochasticOscillator(stocks[i])\n",
    "    Strategy(stocks[i])\n",
    "    i+=1"
   ]
  },
  {
   "cell_type": "code",
   "execution_count": 303,
   "metadata": {},
   "outputs": [
    {
     "data": {
      "text/plain": [
       "<matplotlib.axes._subplots.AxesSubplot at 0x228a4be3708>"
      ]
     },
     "execution_count": 303,
     "metadata": {},
     "output_type": "execute_result"
    },
    {
     "data": {
      "image/png": "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\n",
      "text/plain": [
       "<Figure size 432x288 with 1 Axes>"
      ]
     },
     "metadata": {
      "needs_background": "light"
     },
     "output_type": "display_data"
    }
   ],
   "source": [
    "\n",
    "s = (len(stocks[0]),nstocks) #setting the dimensions of the weights vector depending on the available data points\n",
    "weights = np.zeros(s) \n",
    "sumwts = 0\n",
    "\n",
    "for row in range(len(stocks[0])):\n",
    "    i = 0\n",
    "    for i in range(nstocks):\n",
    "        sumwts+=np.abs(stocks[i]['Position'].iloc[row]) #checking how many positions were taken on that day\n",
    "    for i in range(nstocks):\n",
    "        if sumwts>0:\n",
    "            #weights assigned as:\n",
    "            #weights = (portfolio*position)/(no.of positions * adj close on that day * (1+transac cost))\n",
    "            weights[row][i]=(portfolio*stocks[i]['Position'].iloc[row])/((sumwts*stocks[i]['Adj Close'].iloc[row])*(1+tscost))\n",
    "        else:\n",
    "            weights[row][i]=0\n",
    "i = 0\n",
    "\n",
    "\n",
    "for i in range(nstocks):\n",
    "    stocks[i]['Market Return'] = (stocks[i]['Adj Close'] - stocks[i]['Adj Close'].shift(1)) #Absolute market return\n",
    "\n",
    "    \n",
    "#Calculating portfolio return\n",
    "stocks[0]['Strategy Return']=0\n",
    "i = 0\n",
    "for i in range(nstocks):\n",
    "    stocks[0]['Strategy Return']+=stocks[i]['Market Return'] * weights[:,i] #multiplying market return of each\n",
    "                                                                            #ticker with its weight\n",
    "stocks[0]['Strategy Return'][64:].cumsum().plot() #Plotting strategy return"
   ]
  },
  {
   "cell_type": "code",
   "execution_count": 269,
   "metadata": {},
   "outputs": [
    {
     "data": {
      "text/plain": [
       "array([[ 0.        ,  0.        ,  0.        ,  0.        ,  0.        ],\n",
       "       [ 0.        ,  0.        ,  0.        ,  0.        ,  0.        ],\n",
       "       [ 0.        ,  0.        ,  0.        ,  0.        ,  0.        ],\n",
       "       ...,\n",
       "       [-0.80087064,  0.09396058,  0.02436761,  0.01414356, -0.16146279],\n",
       "       [-0.80206749, -0.09540406, -0.02415524, -0.0142968 , -0.16644467],\n",
       "       [-0.76193955, -0.09192631, -0.02155205, -0.01395906, -0.16662769]])"
      ]
     },
     "execution_count": 269,
     "metadata": {},
     "output_type": "execute_result"
    }
   ],
   "source": [
    "weights\n"
   ]
  }
 ],
 "metadata": {
  "kernelspec": {
   "display_name": "Python 3",
   "language": "python",
   "name": "python3"
  },
  "language_info": {
   "codemirror_mode": {
    "name": "ipython",
    "version": 3
   },
   "file_extension": ".py",
   "mimetype": "text/x-python",
   "name": "python",
   "nbconvert_exporter": "python",
   "pygments_lexer": "ipython3",
   "version": "3.7.6"
  }
 },
 "nbformat": 4,
 "nbformat_minor": 4
}
